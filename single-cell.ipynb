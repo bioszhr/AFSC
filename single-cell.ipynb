{
 "cells": [
  {
   "cell_type": "code",
   "execution_count": 1,
   "metadata": {},
   "outputs": [
    {
     "name": "stderr",
     "output_type": "stream",
     "text": [
      "/home/hanr/anaconda3/envs/CCST2/lib/python3.7/site-packages/tqdm/auto.py:22: TqdmWarning: IProgress not found. Please update jupyter and ipywidgets. See https://ipywidgets.readthedocs.io/en/stable/user_install.html\n",
      "  from .autonotebook import tqdm as notebook_tqdm\n"
     ]
    }
   ],
   "source": [
    "from src import *\n",
    "from src.AFSC import *\n",
    "import matplotlib.pyplot as plt \n",
    "from sklearn.metrics import normalized_mutual_info_score, adjusted_rand_score, fowlkes_mallows_score,silhouette_score,davies_bouldin_score\n",
    "import pickle\n",
    "from anndata import AnnData"
   ]
  },
  {
   "cell_type": "code",
   "execution_count": 2,
   "metadata": {},
   "outputs": [],
   "source": [
    "parser = argparse.ArgumentParser()\n",
    "parser.add_argument(\"--checkpoint\", default=1, help=\"1 represents using the trained model.\")\n",
    "parser.add_argument(\"--k\", default=10, help=\"The number of neighbors. Default is 50\")\n",
    "parser.add_argument(\"--threshold\", default=50, help=\"The threshold of neighbors. Default is 500\")\n",
    "parser.add_argument(\"--pca_dim\", default=100, help=\"The dim of pca. Default is 1000\")\n",
    "\n",
    "parser.add_argument(\"--layers\", nargs='?', default='[256]', help=\"The number of units of each layer of the GNN. Default is [256]\")\n",
    "parser.add_argument(\"--pred_hid\", type=int, default=512, help=\"The number of hidden units of layer of the predictor. Default is 512\")\n",
    "\n",
    "parser.add_argument(\"--topk\", type=int, default=50, help=\"The number of neighbors to search\")\n",
    "parser.add_argument(\"--clus_num_iters\", type=int, default=20)\n",
    "parser.add_argument(\"--num_centroids\", type=int, default=80, help=\"The number of centroids for K-means Clustering\")\n",
    "parser.add_argument(\"--num_kmeans\", type=int, default=5, help=\"The number of K-means Clustering for being robust to randomness\")\n",
    "\n",
    "parser.add_argument(\"--eval_freq\", type=float, default=5, help=\"The frequency of model evaluation\")\n",
    "parser.add_argument(\"--mad\", type=float, default=0.999, help=\"Moving Average Decay for Teacher Network\")\n",
    "parser.add_argument(\"--lr\", type=float, default=0.001, help=\"learning rate\")    \n",
    "parser.add_argument(\"--es\", type=int, default=3000, help=\"Early Stopping Criterion\")\n",
    "parser.add_argument(\"--device\", type=int, default=0)\n",
    "parser.add_argument(\"--epochs\", type=int, default=500)\n",
    "parser.add_argument(\"--dropout\", type=float, default=0.0)\n",
    "args, _=parser.parse_known_args()"
   ]
  },
  {
   "cell_type": "code",
   "execution_count": 3,
   "metadata": {},
   "outputs": [],
   "source": [
    "df = pd.read_csv('./datasets/single-cell/MERFISH/Moffitt_and_Bambah-Mukku_et_al_merfish_all_cells.csv')"
   ]
  },
  {
   "cell_type": "code",
   "execution_count": 4,
   "metadata": {},
   "outputs": [
    {
     "name": "stdout",
     "output_type": "stream",
     "text": [
      "(1027848, 170) (4975, 170)                                      Cell_ID  Animal_ID Animal_sex   Behavior  \\\n",
      "545969  462b4baf-6b68-4d73-bcf1-ebd7aa09e28d         18     Female  Parenting   \n",
      "\n",
      "        Bregma  Centroid_X   Centroid_Y     Cell_class Neuron_cluster_ID  \\\n",
      "545969    0.11  935.427246  2535.858258  Endothelial 1               NaN   \n",
      "\n",
      "        Ace2  ...      Penk  Scg2  Sln  Sst  Tac1  Tac2   Th       Trh  Ucn3  \\\n",
      "545969   0.0  ...  0.020289   0.0  0.0  0.0   0.0   0.0  0.0  0.010762   0.0   \n",
      "\n",
      "        Vgf  \n",
      "545969  0.0  \n",
      "\n",
      "[1 rows x 170 columns]\n"
     ]
    }
   ],
   "source": [
    "df_slice = df[(df['Animal_ID']==18)&(df['Bregma']==0.11)&(df['Cell_class']!='Ambiguous')]\n",
    "print(df.shape,df_slice.shape,df_slice.head(1))"
   ]
  },
  {
   "cell_type": "code",
   "execution_count": 5,
   "metadata": {},
   "outputs": [
    {
     "name": "stdout",
     "output_type": "stream",
     "text": [
      "[ 0  1  2  3  4  5  6  7  8  9 10 11 12 13 14]\n",
      "AnnData object with n_obs × n_vars = 4975 × 161\n",
      "    obsm: 'spatial', 'label'\n"
     ]
    },
    {
     "name": "stderr",
     "output_type": "stream",
     "text": [
      "/home/hanr/anaconda3/envs/CCST2/lib/python3.7/site-packages/ipykernel_launcher.py:3: FutureWarning: X.dtype being converted to np.float32 from float64. In the next version of anndata (0.9) conversion will not be automatic. Pass dtype explicitly to avoid this warning. Pass `AnnData(X, dtype=X.dtype, ...)` to get the future behavour.\n",
      "  This is separate from the ipykernel package so we can avoid doing imports until\n",
      "/home/hanr/anaconda3/envs/CCST2/lib/python3.7/site-packages/anndata/_core/anndata.py:121: ImplicitModificationWarning: Transforming to str index.\n",
      "  warnings.warn(\"Transforming to str index.\", ImplicitModificationWarning)\n"
     ]
    }
   ],
   "source": [
    "X = df_slice.iloc[:,9:]\n",
    "# print(X)\n",
    "adata = AnnData(X)\n",
    "spatial = np.array(df_slice.iloc[:,[5,6]])\n",
    "label = pd.Categorical(df_slice.iloc[:,7]).codes\n",
    "print(np.unique(label))\n",
    "adata.obsm['spatial']=spatial\n",
    "adata.obsm['label']=label\n",
    "print(adata)"
   ]
  },
  {
   "cell_type": "code",
   "execution_count": 6,
   "metadata": {},
   "outputs": [
    {
     "name": "stdout",
     "output_type": "stream",
     "text": [
      "AnnData object with n_obs × n_vars = 4975 × 161\n",
      "    obs: 'n_counts'\n",
      "    var: 'n_cells'\n",
      "    uns: 'log1p'\n",
      "    obsm: 'spatial', 'label', 'X_pca', 'distance', 'adj_k', 'distance_k'\n"
     ]
    }
   ],
   "source": [
    "adata = process_adata(adata,args.pca_dim,args.k)"
   ]
  },
  {
   "cell_type": "code",
   "execution_count": 7,
   "metadata": {},
   "outputs": [
    {
     "data": {
      "image/png": "[encoded data removed]",
      "text/plain": [
       "<Figure size 640x480 with 1 Axes>"
      ]
     },
     "metadata": {},
     "output_type": "display_data"
    },
    {
     "data": {
      "image/png": "[encoded data removed]",
      "text/plain": [
       "<Figure size 960x480 with 1 Axes>"
      ]
     },
     "metadata": {},
     "output_type": "display_data"
    }
   ],
   "source": [
    "DIS_K=adata.obsm['distance_k']\n",
    "DIS_K_plot=DIS_K[np.triu_indices(DIS_K.shape[0],k=1)]\n",
    "DIS_K_plot=DIS_K_plot[DIS_K_plot>0] \n",
    "#箱线图\n",
    "plt.boxplot(DIS_K_plot, showmeans=True, meanline=True,meanprops={'color': 'cyan', 'linewidth': 1.5})\n",
    "plt.show()\n",
    "num_bin=[0]\n",
    "#直方图\n",
    "i=0\n",
    "while i<=100:\n",
    "    i+=10\n",
    "    num_bin.append(i)\n",
    "plt.figure(dpi=80,figsize=(12,6))\n",
    "plt.hist(DIS_K_plot, num_bin)\n",
    "plt.xticks(num_bin)\n",
    "plt.grid(alpha=0.4)\n",
    "plt.show()"
   ]
  },
  {
   "cell_type": "code",
   "execution_count": 8,
   "metadata": {},
   "outputs": [],
   "source": [
    "def train(adata,threshold):\n",
    "    data = prepare_data(adata,threshold)\n",
    "    model_AFSL =cluster()\n",
    "    #Run\n",
    "    model_AFSL.train(data,args,n_clusters=15,init_spa=True,res=0.7, tol=5e-3, lr=0.05, max_epochs=500)\n",
    "    y_pred, x =model_AFSL.predict()\n",
    "    refined_pred=refine(adata,sample_id=adata.obs.index.tolist(), pred=y_pred.tolist())\n",
    "    adata.obs[\"pred\"]=refined_pred\n",
    "    NMI = normalized_mutual_info_score(adata.obsm[\"label\"], adata.obs[\"pred\"], average_method='arithmetic')\n",
    "    ARI = adjusted_rand_score(adata.obsm[\"label\"], adata.obs[\"pred\"])\n",
    "    FMI = fowlkes_mallows_score(adata.obsm[\"label\"], adata.obs[\"pred\"]) \n",
    "    SC = silhouette_score(x.detach().numpy(), adata.obs[\"pred\"])\n",
    "    DBI = davies_bouldin_score(x.detach().numpy(), adata.obs[\"pred\"])\n",
    "    print('===== ARI:{:.2f},NMI:{:.2f},FMI:{:.2f},SC:{:.2f},DBI:{:.2f} ===='.format(ARI,NMI,FMI,SC,DBI))\n",
    "    label = np.ascontiguousarray(refined_pred) \n",
    "    df_label = pd.DataFrame(label,columns=['label'])\n",
    "    df_label.to_csv('./results/label/MERFISH.csv',index=False)\n",
    "    np.save(f'./results/feat/MERFISH.npy', x.detach().numpy())\n",
    "    output_hal = open(\"./results/model/MERFISH.pkl\", 'wb')\n",
    "    s = pickle.dumps(model_AFSL)\n",
    "    output_hal.write(s)\n",
    "    output_hal.close()\n",
    "    print('save')\n",
    "    torch.cuda.empty_cache()"
   ]
  },
  {
   "cell_type": "code",
   "execution_count": 9,
   "metadata": {},
   "outputs": [],
   "source": [
    "def test(adata,checkpoint_path):\n",
    "    model_AFSL = cluster()\n",
    "    with open(checkpoint_path,'rb') as file:\n",
    "        model_AFSL  = pickle.loads(file.read())\n",
    "\n",
    "    y_pred, x =model_AFSL.predict()\n",
    "    refined_pred=refine(adata,sample_id=adata.obs.index.tolist(), pred=y_pred.tolist())\n",
    "    adata.obs[\"pred\"]=refined_pred\n",
    "    NMI = normalized_mutual_info_score(adata.obsm[\"label\"], adata.obs[\"pred\"], average_method='arithmetic')\n",
    "    ARI = adjusted_rand_score(adata.obsm[\"label\"], adata.obs[\"pred\"])\n",
    "    FMI = fowlkes_mallows_score(adata.obsm[\"label\"], adata.obs[\"pred\"]) \n",
    "    SC = silhouette_score(x.detach().numpy(), adata.obs[\"pred\"])\n",
    "    DBI = davies_bouldin_score(x.detach().numpy(), adata.obs[\"pred\"])\n",
    "    print('===== ARI:{:.2f},NMI:{:.2f},FMI:{:.2f},SC:{:.2f},DBI:{:.2f} ===='.format(ARI,NMI,FMI,SC,DBI))"
   ]
  },
  {
   "cell_type": "code",
   "execution_count": 10,
   "metadata": {},
   "outputs": [
    {
     "name": "stdout",
     "output_type": "stream",
     "text": [
      "===== ARI:0.20,NMI:0.23,FMI:0.40,SC:0.20,DBI:1.30 ====\n"
     ]
    }
   ],
   "source": [
    "threshold = args.threshold\n",
    "if args.checkpoint == 0:\n",
    "    train(adata,threshold)\n",
    "else:\n",
    "    test(adata,'./results/model/MERFISH.pkl')"
   ]
  }
 ],
 "metadata": {
  "kernelspec": {
   "display_name": "CCST2",
   "language": "python",
   "name": "python3"
  },
  "language_info": {
   "codemirror_mode": {
    "name": "ipython",
    "version": 3
   },
   "file_extension": ".py",
   "mimetype": "text/x-python",
   "name": "python",
   "nbconvert_exporter": "python",
   "pygments_lexer": "ipython3",
   "version": "3.7.16"
  },
  "orig_nbformat": 4
 },
 "nbformat": 4,
 "nbformat_minor": 2
}
