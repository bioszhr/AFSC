{
 "cells": [
  {
   "cell_type": "code",
   "execution_count": 16,
   "metadata": {},
   "outputs": [],
   "source": [
    "from src import *\n",
    "from src.AFSC import *\n",
    "import matplotlib.pyplot as plt \n",
    "from sklearn.metrics import normalized_mutual_info_score, adjusted_rand_score, fowlkes_mallows_score,silhouette_score,davies_bouldin_score\n",
    "import pickle"
   ]
  },
  {
   "cell_type": "code",
   "execution_count": 17,
   "metadata": {},
   "outputs": [],
   "source": [
    "parser = argparse.ArgumentParser()\n",
    "parser.add_argument(\"--checkpoint\", default=1, help=\"1 represents using the trained model.\")\n",
    "parser.add_argument(\"--need_k\", default=0, help=\"1 represents using the k neighbors.\")\n",
    "parser.add_argument(\"--k\", default=50, help=\"The number of neighbors. Default is 50\")\n",
    "parser.add_argument(\"--pca_dim\", default=1000, help=\"The dim of pca. Default is 1000\")\n",
    "\n",
    "parser.add_argument(\"--layers\", nargs='?', default='[256]', help=\"The number of units of each layer of the GNN. Default is [256]\")\n",
    "parser.add_argument(\"--pred_hid\", type=int, default=512, help=\"The number of hidden units of layer of the predictor. Default is 512\")\n",
    "\n",
    "parser.add_argument(\"--topk\", type=int, default=50, help=\"The number of neighbors to search\")\n",
    "parser.add_argument(\"--clus_num_iters\", type=int, default=20)\n",
    "parser.add_argument(\"--num_centroids\", type=int, default=80, help=\"The number of centroids for K-means Clustering\")\n",
    "parser.add_argument(\"--num_kmeans\", type=int, default=5, help=\"The number of K-means Clustering for being robust to randomness\")\n",
    "\n",
    "parser.add_argument(\"--eval_freq\", type=float, default=5, help=\"The frequency of model evaluation\")\n",
    "parser.add_argument(\"--mad\", type=float, default=0.9, help=\"Moving Average Decay for Teacher Network\")\n",
    "parser.add_argument(\"--lr\", type=float, default=0.001, help=\"learning rate\")    \n",
    "parser.add_argument(\"--es\", type=int, default=3000, help=\"Early Stopping Criterion\")\n",
    "parser.add_argument(\"--device\", type=int, default=0)\n",
    "parser.add_argument(\"--epochs\", type=int, default=500)\n",
    "parser.add_argument(\"--dropout\", type=float, default=0.0)\n",
    "args, _=parser.parse_known_args()"
   ]
  },
  {
   "cell_type": "code",
   "execution_count": 18,
   "metadata": {},
   "outputs": [
    {
     "name": "stderr",
     "output_type": "stream",
     "text": [
      "/home/hanr/anaconda3/envs/CCST2/lib/python3.7/site-packages/anndata/_core/anndata.py:1830: UserWarning: Variable names are not unique. To make them unique, call `.var_names_make_unique`.\n",
      "  utils.warn_names_duplicates(\"var\")\n"
     ]
    },
    {
     "name": "stdout",
     "output_type": "stream",
     "text": [
      "AnnData object with n_obs × n_vars = 3798 × 36601\n",
      "    obs: 'in_tissue', 'array_row', 'array_col'\n",
      "    var: 'gene_ids', 'feature_types', 'genome'\n",
      "    uns: 'spatial'\n",
      "    obsm: 'spatial'\n"
     ]
    }
   ],
   "source": [
    "adata = read_adata('/home/hanr/AFSC/datasets/spot/10X_Human_Breast_Cancer','filtered_feature_bc_matrix.h5')"
   ]
  },
  {
   "cell_type": "code",
   "execution_count": 19,
   "metadata": {},
   "outputs": [
    {
     "name": "stdout",
     "output_type": "stream",
     "text": [
      "AnnData object with n_obs × n_vars = 3798 × 36601\n",
      "    obs: 'in_tissue', 'array_row', 'array_col'\n",
      "    var: 'gene_ids', 'feature_types', 'genome'\n",
      "    uns: 'spatial'\n",
      "    obsm: 'spatial', 'label'\n"
     ]
    }
   ],
   "source": [
    "adata = read_label(adata,'/home/hanr/AFSC/datasets/spot/10X_Human_Breast_Cancer/metadata.tsv',\"ground_truth\")"
   ]
  },
  {
   "cell_type": "code",
   "execution_count": 20,
   "metadata": {},
   "outputs": [
    {
     "name": "stdout",
     "output_type": "stream",
     "text": [
      "AnnData object with n_obs × n_vars = 3798 × 22240\n",
      "    obs: 'in_tissue', 'array_row', 'array_col', 'n_counts'\n",
      "    var: 'gene_ids', 'feature_types', 'genome', 'n_cells'\n",
      "    uns: 'spatial', 'log1p'\n",
      "    obsm: 'spatial', 'label', 'X_pca', 'distance', 'adj_k', 'distance_k'\n"
     ]
    }
   ],
   "source": [
    "adata = process_adata(adata,args.pca_dim,args.k)"
   ]
  },
  {
   "cell_type": "code",
   "execution_count": 21,
   "metadata": {},
   "outputs": [
    {
     "data": {
      "image/png": "[encoded data removed]",
      "text/plain": [
       "<Figure size 640x480 with 1 Axes>"
      ]
     },
     "metadata": {},
     "output_type": "display_data"
    },
    {
     "data": {
      "image/png": "[encoded data removed]",
      "text/plain": [
       "<Figure size 960x480 with 1 Axes>"
      ]
     },
     "metadata": {},
     "output_type": "display_data"
    }
   ],
   "source": [
    "DIS_K=adata.obsm['distance_k']\n",
    "DIS_K_plot=DIS_K[np.triu_indices(DIS_K.shape[0],k=1)]\n",
    "DIS_K_plot=DIS_K_plot[DIS_K_plot>0] \n",
    "#箱线图\n",
    "plt.boxplot(DIS_K_plot, showmeans=True, meanline=True,meanprops={'color': 'cyan', 'linewidth': 1.5})\n",
    "plt.show()\n",
    "num_bin=[0]\n",
    "#直方图\n",
    "i=0\n",
    "while i<=1000:\n",
    "    i+=50\n",
    "    num_bin.append(i)\n",
    "plt.figure(dpi=80,figsize=(12,6))\n",
    "plt.hist(DIS_K_plot, num_bin)\n",
    "plt.xticks(num_bin)\n",
    "plt.grid(alpha=0.4)\n",
    "plt.show()"
   ]
  },
  {
   "cell_type": "code",
   "execution_count": 22,
   "metadata": {},
   "outputs": [],
   "source": [
    "def train(adata,threshold_list):\n",
    "    best_ari = 0\n",
    "    for threshold in threshold_list:\n",
    "        print(\"**************************************************************\")\n",
    "        print(threshold)\n",
    "        data = prepare_data(adata,args.need_k,threshold)\n",
    "        model_AFSL =cluster()\n",
    "        #Run\n",
    "        model_AFSL.train(data,args,n_clusters=20,init_spa=True,res=0.7, tol=5e-3, lr=0.05, max_epochs=500)\n",
    "        y_pred, x =model_AFSL.predict()\n",
    "        refined_pred=refine(adata,sample_id=adata.obs.index.tolist(), pred=y_pred.tolist())\n",
    "        adata.obs[\"pred\"]=refined_pred\n",
    "        NMI = normalized_mutual_info_score(adata.obsm[\"label\"], adata.obs[\"pred\"], average_method='arithmetic')\n",
    "        ARI = adjusted_rand_score(adata.obsm[\"label\"], adata.obs[\"pred\"])\n",
    "        FMI = fowlkes_mallows_score(adata.obsm[\"label\"], adata.obs[\"pred\"]) \n",
    "        SC = silhouette_score(x.detach().numpy(), adata.obs[\"pred\"])\n",
    "        DBI = davies_bouldin_score(x.detach().numpy(), adata.obs[\"pred\"])\n",
    "        print('===== ARI:{:.2f},NMI:{:.2f},FMI:{:.2f},SC:{:.2f},DBI:{:.2f} ===='.format(ARI,NMI,FMI,SC,DBI))\n",
    "        if ARI > best_ari:\n",
    "            best_ari = ARI\n",
    "            label = np.ascontiguousarray(refined_pred) \n",
    "            df_label = pd.DataFrame(label,columns=['label'])\n",
    "            df_label.to_csv('./results/label/BRCA.csv',index=False)\n",
    "            np.save(f'./results/feat/BRCA.npy', x.detach().numpy())\n",
    "            output_hal = open(\"./results/model/BRCA.pkl\", 'wb')\n",
    "            s = pickle.dumps(model_AFSL)\n",
    "            output_hal.write(s)\n",
    "            output_hal.close()\n",
    "            print('save')\n",
    "        torch.cuda.empty_cache()"
   ]
  },
  {
   "cell_type": "code",
   "execution_count": 25,
   "metadata": {},
   "outputs": [],
   "source": [
    "def test(adata,checkpoint_path):\n",
    "    model_AFSL = cluster()\n",
    "    with open(checkpoint_path,'rb') as file:\n",
    "        model_AFSL  = pickle.loads(file.read())\n",
    "\n",
    "    y_pred, x =model_AFSL.predict()\n",
    "    refined_pred=refine(adata,sample_id=adata.obs.index.tolist(), pred=y_pred.tolist())\n",
    "    adata.obs[\"pred\"]=refined_pred\n",
    "    NMI = normalized_mutual_info_score(adata.obsm[\"label\"], adata.obs[\"pred\"], average_method='arithmetic')\n",
    "    ARI = adjusted_rand_score(adata.obsm[\"label\"], adata.obs[\"pred\"])\n",
    "    FMI = fowlkes_mallows_score(adata.obsm[\"label\"], adata.obs[\"pred\"]) \n",
    "    SC = silhouette_score(x.detach().numpy(), adata.obs[\"pred\"])\n",
    "    DBI = davies_bouldin_score(x.detach().numpy(), adata.obs[\"pred\"])\n",
    "    print('===== ARI:{:.2f},NMI:{:.2f},FMI:{:.2f},SC:{:.2f},DBI:{:.2f} ===='.format(ARI,NMI,FMI,SC,DBI))"
   ]
  },
  {
   "cell_type": "code",
   "execution_count": 26,
   "metadata": {},
   "outputs": [
    {
     "name": "stderr",
     "output_type": "stream",
     "text": [
      "/home/hanr/AFSC/src/AFSC.py:159: UserWarning: Creating a tensor from a list of numpy.ndarrays is extremely slow. Please consider converting the list to a single numpy.ndarray with numpy.array() before converting to a tensor. (Triggered internally at  /opt/conda/conda-bld/pytorch_1656352430114/work/torch/csrc/utils/tensor_new.cpp:204.)\n",
      "  indices = torch.tensor([index, similar]).to(self.device)\n"
     ]
    },
    {
     "name": "stdout",
     "output_type": "stream",
     "text": [
      "===== ARI:0.631,NMI:0.692,FMI:0.662,SC:0.594,DBI:0.710 ====\n"
     ]
    }
   ],
   "source": [
    "if args.checkpoint == 0:\n",
    "    threshold_list=[500,850,1000]\n",
    "    train(adata,threshold_list)\n",
    "else:\n",
    "    test(adata,'/home/hanr/AFSC/results/model/BRCA.pkl')"
   ]
  }
 ],
 "metadata": {
  "kernelspec": {
   "display_name": "CCST2",
   "language": "python",
   "name": "python3"
  },
  "language_info": {
   "codemirror_mode": {
    "name": "ipython",
    "version": 3
   },
   "file_extension": ".py",
   "mimetype": "text/x-python",
   "name": "python",
   "nbconvert_exporter": "python",
   "pygments_lexer": "ipython3",
   "version": "3.7.16"
  },
  "orig_nbformat": 4
 },
 "nbformat": 4,
 "nbformat_minor": 2
}
